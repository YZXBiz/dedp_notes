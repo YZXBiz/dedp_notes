{
 "cells": [
  {
   "cell_type": "markdown",
   "id": "ace61843",
   "metadata": {},
   "source": [
    "# Pattern: Full Loader \n",
    "The Full loader implementation is one of the most straightforward patterns presented in this book. However, despite its simple two-steps construction, it has some pitfalls.\n",
    "\n",
    "## Problem\n",
    "Imagine there a dataset only changes a few times a week. It's also a very slowly evolving entity with the total number of rows not excedding 1 million. Unfortunately, `the data provide doesn't define any attribute that could help detect changed rows since the last ingestion.`\n",
    "\n",
    "## Solution\n",
    "`Because of the lack of last updated value in the dataset`, Full Loader pattern is an ideal solution to the problem. \n",
    "\n",
    "The simplest implmentation relies on 2 steps, the extract and load (EL). It uses native data stores commands to export data from one database, and import it to another.\n",
    "\n",
    "```{note}\n",
    "This EL approach is ideal for homogenous data stores because it doesn't require any data transformation.\n",
    "```"
   ]
  }
 ],
 "metadata": {
  "jupytext": {
   "formats": "md:myst",
   "text_representation": {
    "extension": ".md",
    "format_name": "myst",
    "format_version": 0.13,
    "jupytext_version": "1.11.5"
   }
  },
  "kernelspec": {
   "display_name": "Python 3",
   "language": "python",
   "name": "python3"
  },
  "language_info": {
   "codemirror_mode": {
    "name": "ipython",
    "version": 3
   },
   "file_extension": ".py",
   "mimetype": "text/x-python",
   "name": "python",
   "nbconvert_exporter": "python",
   "pygments_lexer": "ipython3",
   "version": "3.12.6"
  },
  "source_map": [
   13
  ]
 },
 "nbformat": 4,
 "nbformat_minor": 5
}